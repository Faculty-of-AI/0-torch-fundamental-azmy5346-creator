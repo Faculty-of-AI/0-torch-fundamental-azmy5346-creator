{
 "cells": [
  {
   "cell_type": "code",
   "execution_count": 11,
   "id": "b5b61b9e",
   "metadata": {},
   "outputs": [
    {
     "name": "stdout",
     "output_type": "stream",
     "text": [
      "tensor([[0.7749, 0.8208, 0.2793, 0.6817, 0.2837, 0.6567, 0.2388],\n",
      "        [0.7313, 0.6012, 0.3043, 0.2548, 0.6294, 0.9665, 0.7399],\n",
      "        [0.4517, 0.4757, 0.7842, 0.1525, 0.6662, 0.3343, 0.7893],\n",
      "        [0.3216, 0.5247, 0.6688, 0.8436, 0.4265, 0.9561, 0.0770],\n",
      "        [0.4108, 0.0014, 0.5414, 0.6419, 0.2976, 0.7077, 0.4189],\n",
      "        [0.0655, 0.8839, 0.8083, 0.7528, 0.8988, 0.6839, 0.7658],\n",
      "        [0.9149, 0.3993, 0.1100, 0.2541, 0.4333, 0.4451, 0.4966]])\n"
     ]
    }
   ],
   "source": [
    "# Import torch\n",
    "import torch\n",
    "\n",
    "# Create random tensor\n",
    "random_tensor = torch.rand(7, 7)\n",
    "\n",
    "# Print the tensor\n",
    "print(random_tensor)\n"
   ]
  },
  {
   "cell_type": "code",
   "execution_count": 12,
   "id": "6ba554c2",
   "metadata": {},
   "outputs": [
    {
     "name": "stdout",
     "output_type": "stream",
     "text": [
      "Tensor 1 shape: torch.Size([7, 7])\n",
      "Tensor 2 shape: torch.Size([1, 7])\n",
      "Tensor 2 Transposed shape: torch.Size([7, 1])\n",
      "Result shape: torch.Size([7, 1])\n",
      "tensor([[2.0983],\n",
      "        [1.8557],\n",
      "        [1.4832],\n",
      "        [1.5734],\n",
      "        [1.7670],\n",
      "        [2.4643],\n",
      "        [1.4786]])\n"
     ]
    }
   ],
   "source": [
    "\n",
    "# Tensor from exercise 2\n",
    "tensor1 = torch.rand(7, 7)\n",
    "\n",
    "# Create another random tensor with shape (1, 7)\n",
    "tensor2 = torch.rand(1, 7)\n",
    "\n",
    "# Transpose it to make matrix multiplication possible\n",
    "tensor2_T = tensor2.T  # Now shape becomes (7, 1)\n",
    "\n",
    "# Perform matrix multiplication\n",
    "result = torch.matmul(tensor1, tensor2_T)\n",
    "\n",
    "print(\"Tensor 1 shape:\", tensor1.shape)\n",
    "print(\"Tensor 2 shape:\", tensor2.shape)\n",
    "print(\"Tensor 2 Transposed shape:\", tensor2_T.shape)\n",
    "print(\"Result shape:\", result.shape)\n",
    "print(result)\n"
   ]
  },
  {
   "cell_type": "code",
   "execution_count": 13,
   "id": "cf1259a3",
   "metadata": {},
   "outputs": [
    {
     "name": "stdout",
     "output_type": "stream",
     "text": [
      "tensor([[1.8542],\n",
      "        [1.9611],\n",
      "        [2.2884],\n",
      "        [3.0481],\n",
      "        [1.7067],\n",
      "        [2.5290],\n",
      "        [1.7989]]) torch.Size([7, 1])\n"
     ]
    }
   ],
   "source": [
    "\n",
    "# Set manual seed\n",
    "torch.manual_seed(0)\n",
    "\n",
    "# Create two random tensors\n",
    "tensor1 = torch.rand(7, 7)\n",
    "tensor2 = torch.rand(1, 7)\n",
    "\n",
    "# Transpose the second tensor\n",
    "tensor2_T = tensor2.T\n",
    "\n",
    "# Matrix multiply tensors\n",
    "result = torch.matmul(tensor1, tensor2_T)\n",
    "\n",
    "print(result, result.shape)\n"
   ]
  },
  {
   "cell_type": "code",
   "execution_count": 14,
   "id": "d5cc6a39",
   "metadata": {},
   "outputs": [],
   "source": [
    "\n",
    "# Set random seed for CPU\n",
    "torch.manual_seed(0)\n",
    "\n",
    "# Set random seed on the GPU\n",
    "torch.cuda.manual_seed(1234)\n"
   ]
  },
  {
   "cell_type": "code",
   "execution_count": 15,
   "id": "e1236f6a",
   "metadata": {},
   "outputs": [
    {
     "name": "stdout",
     "output_type": "stream",
     "text": [
      "Device: cpu\n",
      "tensor([[0.0290, 0.4019, 0.2598],\n",
      "        [0.3666, 0.0583, 0.7006]]) tensor([[0.0518, 0.4681, 0.6738],\n",
      "        [0.3315, 0.7837, 0.5631]])\n"
     ]
    }
   ],
   "source": [
    "\n",
    "# Set random seed for reproducibility\n",
    "torch.manual_seed(1234)\n",
    "\n",
    "# Check for access to GPU\n",
    "device = \"cuda\" if torch.cuda.is_available() else \"cpu\"\n",
    "print(\"Device:\", device)\n",
    "\n",
    "# Create two random tensors on the GPU\n",
    "tensor_A = torch.rand(2, 3, device=device)\n",
    "tensor_B = torch.rand(2, 3, device=device)\n",
    "\n",
    "print(tensor_A, tensor_B)\n"
   ]
  },
  {
   "cell_type": "code",
   "execution_count": 16,
   "id": "0bf00a73",
   "metadata": {},
   "outputs": [
    {
     "name": "stdout",
     "output_type": "stream",
     "text": [
      "Device: cpu\n",
      "tensor([[0.3647, 0.4709],\n",
      "        [0.5184, 0.5617]]) torch.Size([2, 2])\n"
     ]
    }
   ],
   "source": [
    "# Set random seed\n",
    "torch.manual_seed(1234)\n",
    "\n",
    "# Select device (GPU if available)\n",
    "device = \"cuda\" if torch.cuda.is_available() else \"cpu\"\n",
    "print(\"Device:\", device)\n",
    "\n",
    "# Create two random tensors on the GPU\n",
    "tensor_A = torch.rand(2, 3, device=device)\n",
    "tensor_B = torch.rand(2, 3, device=device)\n",
    "\n",
    "# Perform matrix multiplication\n",
    "# tensor_A is (2, 3), so we need tensor_B.T to be (3, 2)\n",
    "result = torch.matmul(tensor_A, tensor_B.T)\n",
    "\n",
    "print(result, result.shape)"
   ]
  },
  {
   "cell_type": "code",
   "execution_count": 17,
   "id": "4ff1e3aa",
   "metadata": {},
   "outputs": [
    {
     "name": "stdout",
     "output_type": "stream",
     "text": [
      "Maximum value: tensor(0.5617)\n",
      "Minimum value: tensor(0.3647)\n"
     ]
    }
   ],
   "source": [
    "# Find max\n",
    "max_value = result.max()\n",
    "\n",
    "# Find min\n",
    "min_value = result.min()\n",
    "\n",
    "print(\"Maximum value:\", max_value)\n",
    "print(\"Minimum value:\", min_value)\n"
   ]
  },
  {
   "cell_type": "code",
   "execution_count": 18,
   "id": "f564d7dc",
   "metadata": {},
   "outputs": [
    {
     "name": "stdout",
     "output_type": "stream",
     "text": [
      "Index of max value: tensor(3)\n",
      "Index of min value: tensor(0)\n"
     ]
    }
   ],
   "source": [
    "# Find arg max\n",
    "arg_max = result.argmax()\n",
    "\n",
    "# Find arg min\n",
    "arg_min = result.argmin()\n",
    "\n",
    "print(\"Index of max value:\", arg_max)\n",
    "print(\"Index of min value:\", arg_min)\n"
   ]
  },
  {
   "cell_type": "code",
   "execution_count": 19,
   "id": "d44b4185",
   "metadata": {},
   "outputs": [
    {
     "name": "stdout",
     "output_type": "stream",
     "text": [
      "tensor([[[[0.5349, 0.1988, 0.6592, 0.6569, 0.2328, 0.4251, 0.2071, 0.6297,\n",
      "           0.3653, 0.8513]]]]) torch.Size([1, 1, 1, 10])\n",
      "tensor([0.5349, 0.1988, 0.6592, 0.6569, 0.2328, 0.4251, 0.2071, 0.6297, 0.3653,\n",
      "        0.8513]) torch.Size([10])\n"
     ]
    }
   ],
   "source": [
    "# Set seed\n",
    "torch.manual_seed(7)\n",
    "\n",
    "# Create random tensor with shape (1, 1, 1, 10)\n",
    "tensor = torch.rand(1, 1, 1, 10)\n",
    "\n",
    "# Remove single dimensions using squeeze()\n",
    "tensor_squeezed = tensor.squeeze()\n",
    "\n",
    "# Print out tensors and their shapes\n",
    "print(tensor, tensor.shape)\n",
    "print(tensor_squeezed, tensor_squeezed.shape)\n"
   ]
  }
 ],
 "metadata": {
  "kernelspec": {
   "display_name": "Python 3",
   "language": "python",
   "name": "python3"
  },
  "language_info": {
   "codemirror_mode": {
    "name": "ipython",
    "version": 3
   },
   "file_extension": ".py",
   "mimetype": "text/x-python",
   "name": "python",
   "nbconvert_exporter": "python",
   "pygments_lexer": "ipython3",
   "version": "3.13.7"
  }
 },
 "nbformat": 4,
 "nbformat_minor": 5
}
